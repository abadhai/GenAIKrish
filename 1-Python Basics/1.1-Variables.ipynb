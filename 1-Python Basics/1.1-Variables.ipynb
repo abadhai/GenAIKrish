{
 "cells": [
  {
   "cell_type": "code",
   "execution_count": 1,
   "id": "60eb0bc4",
   "metadata": {},
   "outputs": [
    {
     "name": "stdout",
     "output_type": "stream",
     "text": [
      "age:  32\n",
      "height:  5.11\n",
      "Name:  Arun\n"
     ]
    }
   ],
   "source": [
    "## Declaring And Assigining variables\n",
    "\n",
    "age =32\n",
    "height =5.11\n",
    "name =\"Arun\"\n",
    "is_student =True\n",
    "\n",
    "## printing thevariables\n",
    "print(\"age: \", age)\n",
    "print(\"height: \",height)\n",
    "print(\"Name: \",name)"
   ]
  },
  {
   "cell_type": "code",
   "execution_count": 2,
   "id": "a43cab6a",
   "metadata": {},
   "outputs": [],
   "source": [
    "## Naming Conventions\n",
    "## Variable names should be descriptive\n",
    "## They must start with a letter or an '_' and contains letter, numbers and underscores\n",
    "## variables name case sensitive\n",
    "\n",
    "# valid variable names\n",
    "first_name =\"Arun\"\n",
    "last_name='Badhai'\n",
    "\n"
   ]
  },
  {
   "cell_type": "code",
   "execution_count": 4,
   "id": "451b73df",
   "metadata": {},
   "outputs": [
    {
     "ename": "SyntaxError",
     "evalue": "invalid syntax. Maybe you meant '==' or ':=' instead of '='? (3610886127.py, line 4)",
     "output_type": "error",
     "traceback": [
      "  \u001b[36mCell\u001b[39m\u001b[36m \u001b[39m\u001b[32mIn[4]\u001b[39m\u001b[32m, line 4\u001b[39m\n\u001b[31m    \u001b[39m\u001b[31m@name=\"Arun\"\u001b[39m\n     ^\n\u001b[31mSyntaxError\u001b[39m\u001b[31m:\u001b[39m invalid syntax. Maybe you meant '==' or ':=' instead of '='?\n"
     ]
    }
   ],
   "source": [
    "## Invalid variable names\n",
    "#2age= 30\n",
    "#first-name='Arun'\n",
    "@name=\"Arun\"\n"
   ]
  },
  {
   "cell_type": "code",
   "execution_count": 5,
   "id": "c30098dd",
   "metadata": {},
   "outputs": [
    {
     "data": {
      "text/plain": [
       "False"
      ]
     },
     "execution_count": 5,
     "metadata": {},
     "output_type": "execute_result"
    }
   ],
   "source": [
    "## Case sensitivity\n",
    "name = \"Arun\"\n",
    "Name = \"arun\"\n",
    "\n",
    "name==Name"
   ]
  },
  {
   "cell_type": "code",
   "execution_count": 7,
   "id": "8a725d5b",
   "metadata": {},
   "outputs": [],
   "source": [
    "## Understanding Variable Types\n",
    "## Python is dynamically typed, type of a variable is determined at runtime\n",
    "age=25\n",
    "height =5.11\n",
    "name =\"Arun\"\n",
    "is_student= True\n"
   ]
  },
  {
   "cell_type": "code",
   "execution_count": 8,
   "id": "c473c14f",
   "metadata": {},
   "outputs": [
    {
     "data": {
      "text/plain": [
       "float"
      ]
     },
     "execution_count": 8,
     "metadata": {},
     "output_type": "execute_result"
    }
   ],
   "source": [
    "## Type Checking and Conversion\n",
    "type(height)"
   ]
  },
  {
   "cell_type": "code",
   "execution_count": 9,
   "id": "399b4dcb",
   "metadata": {},
   "outputs": [
    {
     "name": "stdout",
     "output_type": "stream",
     "text": [
      "25\n"
     ]
    }
   ],
   "source": [
    "#Type Conversion\n",
    "age_str=str(age)\n",
    "print(age_str)"
   ]
  },
  {
   "cell_type": "code",
   "execution_count": 10,
   "id": "b15bd5ab",
   "metadata": {},
   "outputs": [
    {
     "data": {
      "text/plain": [
       "str"
      ]
     },
     "execution_count": 10,
     "metadata": {},
     "output_type": "execute_result"
    }
   ],
   "source": [
    "type(age_str)"
   ]
  },
  {
   "cell_type": "code",
   "execution_count": 11,
   "id": "412d5eb8",
   "metadata": {},
   "outputs": [
    {
     "ename": "ValueError",
     "evalue": "invalid literal for int() with base 10: 'Arun'",
     "output_type": "error",
     "traceback": [
      "\u001b[31m---------------------------------------------------------------------------\u001b[39m",
      "\u001b[31mValueError\u001b[39m                                Traceback (most recent call last)",
      "\u001b[36mCell\u001b[39m\u001b[36m \u001b[39m\u001b[32mIn[11]\u001b[39m\u001b[32m, line 2\u001b[39m\n\u001b[32m      1\u001b[39m name=\u001b[33m'\u001b[39m\u001b[33mArun\u001b[39m\u001b[33m'\u001b[39m\n\u001b[32m----> \u001b[39m\u001b[32m2\u001b[39m \u001b[38;5;28;43mint\u001b[39;49m\u001b[43m(\u001b[49m\u001b[43mname\u001b[49m\u001b[43m)\u001b[49m\n",
      "\u001b[31mValueError\u001b[39m: invalid literal for int() with base 10: 'Arun'"
     ]
    }
   ],
   "source": [
    "name='Arun'\n",
    "int(name)"
   ]
  },
  {
   "cell_type": "code",
   "execution_count": null,
   "id": "911bcc03",
   "metadata": {},
   "outputs": [
    {
     "name": "stdout",
     "output_type": "stream",
     "text": [
      "10\n",
      "10 <class 'int'>\n"
     ]
    }
   ],
   "source": [
    "## Dynamic typing\n",
    "## Python allows the type of a variable to change as the program exexutes\n",
    "var =10\n",
    "print(var)\n",
    "print(var,type(var))"
   ]
  },
  {
   "cell_type": "code",
   "execution_count": 14,
   "id": "2cbdd5cf",
   "metadata": {},
   "outputs": [
    {
     "name": "stdout",
     "output_type": "stream",
     "text": [
      "Hello <class 'str'>\n"
     ]
    }
   ],
   "source": [
    "var ='Hello'\n",
    "print(var,type(var))"
   ]
  },
  {
   "cell_type": "code",
   "execution_count": 4,
   "id": "26e372fc",
   "metadata": {},
   "outputs": [
    {
     "name": "stdout",
     "output_type": "stream",
     "text": [
      "10\n"
     ]
    }
   ],
   "source": [
    "## input\n",
    "age = input(\"what is the age ?\")\n",
    "print(age)"
   ]
  },
  {
   "cell_type": "code",
   "execution_count": 3,
   "id": "0e236db7",
   "metadata": {},
   "outputs": [
    {
     "name": "stdout",
     "output_type": "stream",
     "text": [
      "30.0\n",
      "-10.0\n",
      "200.0\n",
      "0.5\n"
     ]
    }
   ],
   "source": [
    "## Simple Calculator\n",
    "num1 = float(input(\"Enter first number\"))\n",
    "num2 = float(input(\"Eneter second number\"))\n",
    "\n",
    "sum = num1 +num2\n",
    "diff = num1 - num2\n",
    "mul = num1 * num2\n",
    "div = num1/num2\n",
    "\n",
    "print(sum)\n",
    "print(diff)\n",
    "print(mul)\n",
    "print(div)"
   ]
  },
  {
   "cell_type": "code",
   "execution_count": null,
   "id": "a9395164",
   "metadata": {},
   "outputs": [],
   "source": []
  }
 ],
 "metadata": {
  "kernelspec": {
   "display_name": "Python 3",
   "language": "python",
   "name": "python3"
  },
  "language_info": {
   "codemirror_mode": {
    "name": "ipython",
    "version": 3
   },
   "file_extension": ".py",
   "mimetype": "text/x-python",
   "name": "python",
   "nbconvert_exporter": "python",
   "pygments_lexer": "ipython3",
   "version": "3.12.0"
  }
 },
 "nbformat": 4,
 "nbformat_minor": 5
}
