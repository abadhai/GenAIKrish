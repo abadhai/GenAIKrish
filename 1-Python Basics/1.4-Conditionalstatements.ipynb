{
 "cells": [
  {
   "cell_type": "code",
   "execution_count": 2,
   "id": "18b1fa26",
   "metadata": {},
   "outputs": [
    {
     "name": "stdout",
     "output_type": "stream",
     "text": [
      "20 You are allowed to vote in the elections\n"
     ]
    }
   ],
   "source": [
    "## if statement\n",
    "age = 20\n",
    "if age >=20:\n",
    "   print(age,\"You are allowed to vote in the elections\")\n"
   ]
  },
  {
   "cell_type": "code",
   "execution_count": 4,
   "id": "3c871a60",
   "metadata": {},
   "outputs": [
    {
     "name": "stdout",
     "output_type": "stream",
     "text": [
      "You are a minor\n"
     ]
    }
   ],
   "source": [
    "## else \n",
    "\n",
    "age = 16\n",
    "if(age>=18):\n",
    "    print(\"You are eligible for voating\")\n",
    "else:\n",
    "    print(\"You are a minor\")"
   ]
  },
  {
   "cell_type": "code",
   "execution_count": 8,
   "id": "cd2ed31a",
   "metadata": {},
   "outputs": [
    {
     "name": "stdout",
     "output_type": "stream",
     "text": [
      "you are a minor\n"
     ]
    }
   ],
   "source": [
    "## elif\n",
    "age =11\n",
    "\n",
    "if age <13:\n",
    "    print(\"you are a minor\")\n",
    "elif(age <18):\n",
    "    print(\"You are a teenager\")\n",
    "else:\n",
    "    print('You are a adult')"
   ]
  }
 ],
 "metadata": {
  "kernelspec": {
   "display_name": "Python 3",
   "language": "python",
   "name": "python3"
  },
  "language_info": {
   "codemirror_mode": {
    "name": "ipython",
    "version": 3
   },
   "file_extension": ".py",
   "mimetype": "text/x-python",
   "name": "python",
   "nbconvert_exporter": "python",
   "pygments_lexer": "ipython3",
   "version": "3.12.0"
  }
 },
 "nbformat": 4,
 "nbformat_minor": 5
}
