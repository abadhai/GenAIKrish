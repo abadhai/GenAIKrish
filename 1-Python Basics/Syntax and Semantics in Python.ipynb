{
 "cells": [
  {
   "cell_type": "markdown",
   "id": "54694258",
   "metadata": {},
   "source": [
    "## Basic Syntax Rules In Python"
   ]
  },
  {
   "cell_type": "code",
   "execution_count": null,
   "id": "a753a5bb",
   "metadata": {},
   "outputs": [
    {
     "name": "stdout",
     "output_type": "stream",
     "text": [
      "John\n",
      "John\n"
     ]
    }
   ],
   "source": [
    "## Case sensetivity - Python is case sensitive. The following two lines of code are different:\n",
    "name = \"John\"\n",
    "\n",
    "Name = \"John\"\n",
    "\n",
    "print(name)  # Output: John\n",
    "\n",
    "print(Name)  # Output: John\n",
    "\n"
   ]
  },
  {
   "cell_type": "markdown",
   "id": "dd8992b0",
   "metadata": {},
   "source": [
    "### Indentation\n",
    "Indentation is a way to group statements together, making the code more readable. It's important to maintain consistent indentation in your code.Pythhon uses 4 spaces per indentation level.\n",
    "That means that each line of code that is part of a block must be indented at the same level."
   ]
  },
  {
   "cell_type": "code",
   "execution_count": 3,
   "id": "99b3a565",
   "metadata": {},
   "outputs": [
    {
     "name": "stdout",
     "output_type": "stream",
     "text": [
      "32\n",
      "32\n"
     ]
    }
   ],
   "source": [
    "# Indentation - Python uses indentation to define code blocks. Indentation must be consistent throughout the code.\n",
    "\n",
    "age = 32\n",
    "if age>30:\n",
    "    print(age)\n",
    "print(age)"
   ]
  },
  {
   "cell_type": "code",
   "execution_count": null,
   "id": "7bfbc862",
   "metadata": {},
   "outputs": [],
   "source": [
    "# Single Line Comment\n"
   ]
  },
  {
   "cell_type": "code",
   "execution_count": 4,
   "id": "2c3556d1",
   "metadata": {},
   "outputs": [
    {
     "name": "stdout",
     "output_type": "stream",
     "text": [
      "32\n"
     ]
    }
   ],
   "source": [
    "## Line Continuation\n",
    "\n",
    "total =1+2+3+5+6+7+ \\\n",
    "    +8\n",
    "print(total)    "
   ]
  },
  {
   "cell_type": "code",
   "execution_count": 5,
   "id": "e8d0919a",
   "metadata": {},
   "outputs": [
    {
     "name": "stdout",
     "output_type": "stream",
     "text": [
      "15\n"
     ]
    }
   ],
   "source": [
    "## Multiple Statements on single line\n",
    "x=5;y=10;z=x+y\n",
    "print(z)"
   ]
  },
  {
   "cell_type": "code",
   "execution_count": 6,
   "id": "80d5b511",
   "metadata": {},
   "outputs": [],
   "source": [
    "## Understand Semantics In Python\n",
    "# variable assignment\n",
    "age =32 ##ageis an integer\n",
    "name =\"Arun\"\n",
    "\n",
    "\n"
   ]
  },
  {
   "cell_type": "code",
   "execution_count": 11,
   "id": "38943e00",
   "metadata": {},
   "outputs": [
    {
     "data": {
      "text/plain": [
       "int"
      ]
     },
     "execution_count": 11,
     "metadata": {},
     "output_type": "execute_result"
    }
   ],
   "source": [
    "## Type Inference\n",
    "type(age)"
   ]
  },
  {
   "cell_type": "code",
   "execution_count": 12,
   "id": "b219ed28",
   "metadata": {},
   "outputs": [
    {
     "data": {
      "text/plain": [
       "str"
      ]
     },
     "execution_count": 12,
     "metadata": {},
     "output_type": "execute_result"
    }
   ],
   "source": [
    "type(name)"
   ]
  },
  {
   "cell_type": "code",
   "execution_count": 13,
   "id": "4e454558",
   "metadata": {},
   "outputs": [
    {
     "name": "stdout",
     "output_type": "stream",
     "text": [
      "<class 'int'>\n"
     ]
    }
   ],
   "source": [
    "## Type Inference\n",
    "variable =10\n",
    "print(type(variable))"
   ]
  },
  {
   "cell_type": "code",
   "execution_count": 14,
   "id": "84e574d5",
   "metadata": {},
   "outputs": [
    {
     "name": "stdout",
     "output_type": "stream",
     "text": [
      "<class 'str'>\n"
     ]
    }
   ],
   "source": [
    "variable = \"Hello\"\n",
    "print(type(variable))"
   ]
  },
  {
   "cell_type": "code",
   "execution_count": 15,
   "id": "a28f058e",
   "metadata": {},
   "outputs": [],
   "source": [
    "age = 32\n",
    "if age>32:\n",
    "    print(\"Age is greater than 32\")\n",
    "    "
   ]
  }
 ],
 "metadata": {
  "kernelspec": {
   "display_name": "Python 3",
   "language": "python",
   "name": "python3"
  },
  "language_info": {
   "codemirror_mode": {
    "name": "ipython",
    "version": 3
   },
   "file_extension": ".py",
   "mimetype": "text/x-python",
   "name": "python",
   "nbconvert_exporter": "python",
   "pygments_lexer": "ipython3",
   "version": "3.12.0"
  }
 },
 "nbformat": 4,
 "nbformat_minor": 5
}
