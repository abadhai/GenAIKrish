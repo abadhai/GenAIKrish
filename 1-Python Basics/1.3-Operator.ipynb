{
 "cells": [
  {
   "cell_type": "code",
   "execution_count": 1,
   "id": "9b6a6666",
   "metadata": {},
   "outputs": [
    {
     "name": "stdout",
     "output_type": "stream",
     "text": [
      "25\n"
     ]
    }
   ],
   "source": [
    "## Arathematic Operations\n",
    "a =10 \n",
    "b =15 \n",
    "\n",
    "result = a+b\n",
    "print(result)\n",
    "\n"
   ]
  },
  {
   "cell_type": "code",
   "execution_count": 2,
   "id": "b3a34b3a",
   "metadata": {},
   "outputs": [
    {
     "name": "stdout",
     "output_type": "stream",
     "text": [
      "-5\n"
     ]
    }
   ],
   "source": [
    "sub_result = a-b\n",
    "print(sub_result)"
   ]
  },
  {
   "cell_type": "code",
   "execution_count": 3,
   "id": "ea6453fa",
   "metadata": {},
   "outputs": [
    {
     "name": "stdout",
     "output_type": "stream",
     "text": [
      "150\n"
     ]
    }
   ],
   "source": [
    "mul_result = a * b\n",
    "print(mul_result)"
   ]
  },
  {
   "cell_type": "code",
   "execution_count": 4,
   "id": "660b610e",
   "metadata": {},
   "outputs": [
    {
     "name": "stdout",
     "output_type": "stream",
     "text": [
      "0.6666666666666666\n"
     ]
    }
   ],
   "source": [
    "div_result = a/b\n",
    "print(div_result)"
   ]
  },
  {
   "cell_type": "code",
   "execution_count": 5,
   "id": "67025124",
   "metadata": {},
   "outputs": [
    {
     "name": "stdout",
     "output_type": "stream",
     "text": [
      "0\n"
     ]
    }
   ],
   "source": [
    "floor_div_result = a//b\n",
    "print(floor_div_result)"
   ]
  },
  {
   "cell_type": "code",
   "execution_count": 6,
   "id": "53e3ab23",
   "metadata": {},
   "outputs": [
    {
     "name": "stdout",
     "output_type": "stream",
     "text": [
      "10\n"
     ]
    }
   ],
   "source": [
    "modulus_result=a%b\n",
    "print(modulus_result)"
   ]
  },
  {
   "cell_type": "code",
   "execution_count": 7,
   "id": "a6204721",
   "metadata": {},
   "outputs": [
    {
     "name": "stdout",
     "output_type": "stream",
     "text": [
      "1000000000000000\n"
     ]
    }
   ],
   "source": [
    "exponent_result = a**b\n",
    "print(exponent_result)"
   ]
  }
 ],
 "metadata": {
  "kernelspec": {
   "display_name": "Python 3",
   "language": "python",
   "name": "python3"
  },
  "language_info": {
   "codemirror_mode": {
    "name": "ipython",
    "version": 3
   },
   "file_extension": ".py",
   "mimetype": "text/x-python",
   "name": "python",
   "nbconvert_exporter": "python",
   "pygments_lexer": "ipython3",
   "version": "3.12.0"
  }
 },
 "nbformat": 4,
 "nbformat_minor": 5
}
