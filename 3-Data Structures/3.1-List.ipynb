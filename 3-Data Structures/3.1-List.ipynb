{
 "cells": [
  {
   "cell_type": "code",
   "execution_count": 2,
   "id": "fdaa381f",
   "metadata": {},
   "outputs": [
    {
     "name": "stdout",
     "output_type": "stream",
     "text": [
      "<class 'list'>\n"
     ]
    }
   ],
   "source": [
    "## Define a list\n",
    "lst =[]\n",
    "lst\n",
    "print(type(lst))"
   ]
  },
  {
   "cell_type": "code",
   "execution_count": 3,
   "id": "0f1a1d14",
   "metadata": {},
   "outputs": [
    {
     "name": "stdout",
     "output_type": "stream",
     "text": [
      "['Arun', 'John', 'Shyam']\n"
     ]
    }
   ],
   "source": [
    "lst =[\"Arun\",\"John\",\"Shyam\"]\n",
    "print(lst)"
   ]
  },
  {
   "cell_type": "code",
   "execution_count": 5,
   "id": "8ef59e03",
   "metadata": {},
   "outputs": [
    {
     "name": "stdout",
     "output_type": "stream",
     "text": [
      "[1, 'arun', 1.4, True]\n"
     ]
    }
   ],
   "source": [
    "mixLst= [1,\"arun\",1.4,True]\n",
    "print(mixLst)"
   ]
  },
  {
   "cell_type": "code",
   "execution_count": 6,
   "id": "d6c9363c",
   "metadata": {},
   "outputs": [
    {
     "name": "stdout",
     "output_type": "stream",
     "text": [
      "apple\n",
      "banana\n",
      "cherry\n",
      "Kiwi\n",
      "grapes\n"
     ]
    }
   ],
   "source": [
    "## Accessing List Items\n",
    "fruits = [\"apple\", \"banana\",\"cherry\",\"Kiwi\",\"grapes\"]\n",
    "for i in fruits:\n",
    "    print(i)"
   ]
  },
  {
   "cell_type": "code",
   "execution_count": 7,
   "id": "edc0b3a5",
   "metadata": {},
   "outputs": [
    {
     "data": {
      "text/plain": [
       "'apple'"
      ]
     },
     "execution_count": 7,
     "metadata": {},
     "output_type": "execute_result"
    }
   ],
   "source": [
    "fruits[0]"
   ]
  },
  {
   "cell_type": "code",
   "execution_count": 8,
   "id": "3a66d39b",
   "metadata": {},
   "outputs": [
    {
     "ename": "IndexError",
     "evalue": "list index out of range",
     "output_type": "error",
     "traceback": [
      "\u001b[31m---------------------------------------------------------------------------\u001b[39m",
      "\u001b[31mIndexError\u001b[39m                                Traceback (most recent call last)",
      "\u001b[36mCell\u001b[39m\u001b[36m \u001b[39m\u001b[32mIn[8]\u001b[39m\u001b[32m, line 2\u001b[39m\n\u001b[32m      1\u001b[39m \u001b[38;5;66;03m## Error conditions\u001b[39;00m\n\u001b[32m----> \u001b[39m\u001b[32m2\u001b[39m \u001b[43mfruits\u001b[49m\u001b[43m[\u001b[49m\u001b[32;43m10\u001b[39;49m\u001b[43m]\u001b[49m\n",
      "\u001b[31mIndexError\u001b[39m: list index out of range"
     ]
    }
   ],
   "source": [
    "## Error conditions\n",
    "fruits[10]"
   ]
  },
  {
   "cell_type": "code",
   "execution_count": null,
   "id": "7ac89395",
   "metadata": {},
   "outputs": [
    {
     "name": "stdout",
     "output_type": "stream",
     "text": [
      "grapes\n"
     ]
    }
   ],
   "source": [
    "## last element\n",
    "print(fruits[-1])"
   ]
  },
  {
   "cell_type": "code",
   "execution_count": null,
   "id": "7db5882a",
   "metadata": {},
   "outputs": [
    {
     "name": "stdout",
     "output_type": "stream",
     "text": [
      "['banana', 'cherry', 'Kiwi', 'grapes']\n"
     ]
    }
   ],
   "source": [
    "## from 1st index to end\n",
    "print(fruits[1:])"
   ]
  },
  {
   "cell_type": "code",
   "execution_count": null,
   "id": "e1e64b4d",
   "metadata": {},
   "outputs": [
    {
     "name": "stdout",
     "output_type": "stream",
     "text": [
      "['banana', 'cherry']\n"
     ]
    }
   ],
   "source": [
    "## 1 to 2 not consider the 3rd element\n",
    "print(fruits[1:3])"
   ]
  },
  {
   "cell_type": "code",
   "execution_count": 12,
   "id": "3972f967",
   "metadata": {},
   "outputs": [
    {
     "name": "stdout",
     "output_type": "stream",
     "text": [
      "[]\n"
     ]
    }
   ],
   "source": [
    "print(fruits[-1:2])"
   ]
  },
  {
   "cell_type": "code",
   "execution_count": 13,
   "id": "a5767805",
   "metadata": {},
   "outputs": [
    {
     "data": {
      "text/plain": [
       "['apple', 'Watermelon', 'cherry', 'Kiwi', 'grapes']"
      ]
     },
     "execution_count": 13,
     "metadata": {},
     "output_type": "execute_result"
    }
   ],
   "source": [
    "## Modifying the List elements\n",
    "fruits[1] =\"Watermelon\"\n",
    "fruits"
   ]
  },
  {
   "cell_type": "code",
   "execution_count": null,
   "id": "dce276cf",
   "metadata": {},
   "outputs": [
    {
     "data": {
      "text/plain": [
       "['apple', 'w', 'a', 't', 'e', 'r']"
      ]
     },
     "execution_count": 14,
     "metadata": {},
     "output_type": "execute_result"
    }
   ],
   "source": [
    "## consider character insted of word\n",
    "fruits[1:] = \"water\"\n",
    "fruits"
   ]
  },
  {
   "cell_type": "code",
   "execution_count": 20,
   "id": "f63ba305",
   "metadata": {},
   "outputs": [],
   "source": [
    "fruits = [\"apple\", \"banana\",\"cherry\",\"Kiwi\",\"grapes\"]"
   ]
  },
  {
   "cell_type": "code",
   "execution_count": 21,
   "id": "d99bb3b2",
   "metadata": {},
   "outputs": [
    {
     "data": {
      "text/plain": [
       "['apple', 'banana', 'cherry', 'Kiwi', 'grapes', 'orange']"
      ]
     },
     "execution_count": 21,
     "metadata": {},
     "output_type": "execute_result"
    }
   ],
   "source": [
    "fruits.append(\"orange\")\n",
    "fruits"
   ]
  },
  {
   "cell_type": "code",
   "execution_count": 22,
   "id": "d51f38df",
   "metadata": {},
   "outputs": [
    {
     "data": {
      "text/plain": [
       "['apple', 'mango', 'banana', 'cherry', 'Kiwi', 'grapes', 'orange']"
      ]
     },
     "execution_count": 22,
     "metadata": {},
     "output_type": "execute_result"
    }
   ],
   "source": [
    "fruits.insert(1,\"mango\")\n",
    "fruits"
   ]
  },
  {
   "cell_type": "code",
   "execution_count": 24,
   "id": "79ee5de4",
   "metadata": {},
   "outputs": [
    {
     "name": "stdout",
     "output_type": "stream",
     "text": [
      "orange\n"
     ]
    }
   ],
   "source": [
    "## Remove and return the last element\n",
    "p=fruits.pop()\n",
    "print(p)"
   ]
  },
  {
   "cell_type": "code",
   "execution_count": 25,
   "id": "a24e31bd",
   "metadata": {},
   "outputs": [
    {
     "data": {
      "text/plain": [
       "3"
      ]
     },
     "execution_count": 25,
     "metadata": {},
     "output_type": "execute_result"
    }
   ],
   "source": [
    "fruits.index(\"cherry\")"
   ]
  },
  {
   "cell_type": "code",
   "execution_count": 33,
   "id": "a8fa1a1d",
   "metadata": {},
   "outputs": [
    {
     "name": "stdout",
     "output_type": "stream",
     "text": [
      "[3, 4, 5]\n",
      "[1, 2, 3, 4, 5]\n",
      "[6, 78, 9, 10]\n",
      "[1, 3, 5, 78, 10]\n",
      "[10, 9, 78, 6, 5, 4, 3, 2, 1]\n",
      "[1, 2, 3, 4, 5, 6, 78, 9, 10]\n",
      "[1, 2, 3, 4, 5, 6, 78, 9, 10]\n"
     ]
    }
   ],
   "source": [
    "## Slicing List\n",
    "numbers =[1,2,3,4,5,6,78,9,10]\n",
    "print(numbers[2:5])\n",
    "print(numbers[:5])\n",
    "print(numbers[5:])\n",
    "print(numbers[::2])\n",
    "print(numbers[::-1])\n",
    "print(numbers[:])\n",
    "print(numbers[::])"
   ]
  },
  {
   "cell_type": "code",
   "execution_count": 34,
   "id": "23fa11e0",
   "metadata": {},
   "outputs": [
    {
     "name": "stdout",
     "output_type": "stream",
     "text": [
      "0 1\n",
      "1 2\n",
      "2 3\n",
      "3 4\n",
      "4 5\n",
      "5 6\n",
      "6 78\n",
      "7 9\n",
      "8 10\n"
     ]
    }
   ],
   "source": [
    "## Iterating with index\n",
    "for index,number in enumerate(numbers):\n",
    "    print(index,number)"
   ]
  },
  {
   "cell_type": "code",
   "execution_count": 37,
   "id": "85be4e40",
   "metadata": {},
   "outputs": [
    {
     "name": "stdout",
     "output_type": "stream",
     "text": [
      "[0, 1, 4, 9, 16, 25, 36, 49, 64, 81]\n"
     ]
    }
   ],
   "source": [
    "## List comprehension\n",
    "lst =[]\n",
    "for x in range(10):\n",
    "    lst.append(x**2)\n",
    "print(lst)   "
   ]
  },
  {
   "cell_type": "code",
   "execution_count": 38,
   "id": "13c12bc2",
   "metadata": {},
   "outputs": [
    {
     "data": {
      "text/plain": [
       "[0, 1, 4, 9, 16, 25, 36, 49, 64, 81]"
      ]
     },
     "execution_count": 38,
     "metadata": {},
     "output_type": "execute_result"
    }
   ],
   "source": [
    "## Operation and iteration\n",
    "[x**2 for x in range(10)]"
   ]
  },
  {
   "cell_type": "markdown",
   "id": "64d6cbc7",
   "metadata": {},
   "source": [
    "## List Comprenhension"
   ]
  },
  {
   "cell_type": "markdown",
   "id": "8a04b87c",
   "metadata": {},
   "source": [
    "Basic syntex [expression for item in iteratable]\n",
    "\n",
    "with condition logic [expression fo item in iterable in condition]\n",
    "\n",
    "Nested List comprehension [expression for item1 in teratable in iteratable in condition]"
   ]
  },
  {
   "cell_type": "code",
   "execution_count": 39,
   "id": "edbd5486",
   "metadata": {},
   "outputs": [
    {
     "name": "stdout",
     "output_type": "stream",
     "text": [
      "[0, 1, 4, 9, 16, 25, 36, 49, 64, 81]\n"
     ]
    }
   ],
   "source": [
    "square = [num**2 for num in range (10)]\n",
    "print(square)\n",
    "\n"
   ]
  },
  {
   "cell_type": "code",
   "execution_count": 41,
   "id": "9701108f",
   "metadata": {},
   "outputs": [
    {
     "name": "stdout",
     "output_type": "stream",
     "text": [
      "[0, 1, 4, 9, 16, 25, 36, 49, 64, 81, 0, 2, 4, 6, 8, 0, 2, 4, 6, 8]\n"
     ]
    }
   ],
   "source": [
    "for i in range(10):\n",
    "    if i%2 ==0:\n",
    "        lst.append(i)\n",
    "print(lst)        "
   ]
  },
  {
   "cell_type": "code",
   "execution_count": 42,
   "id": "88bbd29f",
   "metadata": {},
   "outputs": [
    {
     "data": {
      "text/plain": [
       "[0, 2, 4, 6, 8]"
      ]
     },
     "execution_count": 42,
     "metadata": {},
     "output_type": "execute_result"
    }
   ],
   "source": [
    "[num for num in range(10) if num%2==0]"
   ]
  },
  {
   "cell_type": "code",
   "execution_count": 43,
   "id": "5582a5fe",
   "metadata": {},
   "outputs": [
    {
     "name": "stdout",
     "output_type": "stream",
     "text": [
      "[[1, 'a'], [1, 'b'], [1, 'c'], [1, 'd'], [2, 'a'], [2, 'b'], [2, 'c'], [2, 'd'], [3, 'a'], [3, 'b'], [3, 'c'], [3, 'd'], [4, 'a'], [4, 'b'], [4, 'c'], [4, 'd']]\n"
     ]
    }
   ],
   "source": [
    "## Nested lst comprehension\n",
    "\n",
    "lst1 =[1,2,3,4]\n",
    "lst2 =['a','b','c','d']\n",
    "\n",
    "pair =[[i,j] for i in lst1 for j in lst2]\n",
    "print(pair)"
   ]
  },
  {
   "cell_type": "code",
   "execution_count": 45,
   "id": "19864ccb",
   "metadata": {},
   "outputs": [
    {
     "name": "stdout",
     "output_type": "stream",
     "text": [
      "[5, 5, 6, 4, 14]\n"
     ]
    }
   ],
   "source": [
    "## List Comprenhension with function calls\n",
    "words = [\"hello\", \"world\",\"python\",\"list\",\"comprenhension\"]\n",
    "length = [len(word) for word in words]\n",
    "print(length)\n"
   ]
  }
 ],
 "metadata": {
  "kernelspec": {
   "display_name": "Python 3",
   "language": "python",
   "name": "python3"
  },
  "language_info": {
   "codemirror_mode": {
    "name": "ipython",
    "version": 3
   },
   "file_extension": ".py",
   "mimetype": "text/x-python",
   "name": "python",
   "nbconvert_exporter": "python",
   "pygments_lexer": "ipython3",
   "version": "3.12.0"
  }
 },
 "nbformat": 4,
 "nbformat_minor": 5
}
